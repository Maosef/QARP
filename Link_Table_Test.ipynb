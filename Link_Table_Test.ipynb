{
 "cells": [
  {
   "cell_type": "markdown",
   "metadata": {},
   "source": [
    "# Test the linking of Compustat and CRSP\n",
    "\n",
    "For documentation:\n",
    "* [CRSP/Compustat Merged Database](http://www.crsp.com/products/research-products/crspcompustat-merged-database)\n",
    "* [CRSP/Compustat Merged Database Guide Web](http://www.crsp.com/products/documentation/crspcompustat-merged-database-guide)\n",
    "* [CRSP/Compustat Merged Database Guide PDF](http://www.crsp.com/files/ccm_data_guide_0.pdf)\n",
    "* [From WRDS](https://wrds-www.wharton.upenn.edu/pages/support/applications/linking-databases/linking-crsp-and-compustat/)"
   ]
  },
  {
   "cell_type": "markdown",
   "metadata": {},
   "source": [
    "#### Import Data"
   ]
  },
  {
   "cell_type": "code",
   "execution_count": 1,
   "metadata": {},
   "outputs": [],
   "source": [
    "# import libraries\n",
    "import pandas\n",
    "import numpy as np\n",
    "import datetime"
   ]
  },
  {
   "cell_type": "code",
   "execution_count": 2,
   "metadata": {},
   "outputs": [],
   "source": [
    "# Import csv data\n",
    "compustat = pandas.read_csv(\"Compustat19612018.csv\")\n",
    "# Used dtypes here to speed up function\n",
    "crsp = pandas.read_csv(\"CRSP1960_2018.csv\", \\\n",
    "    dtype={'PERMNO': int, 'date': str, 'EXCHCD': float, 'SICCD': str, 'SHRCLS': str, 'PRIMEXCH': str, \\\n",
    "           'PRC': float, 'RET': str, 'SHROUT': float, 'CFACSHR': float, 'vwretd': float, 'sprtrn': float})\n",
    "cpi = pandas.read_csv(\"CPIData.csv\")\n",
    "linking_table = pandas.read_csv('CompustatMergedDatabase.csv')"
   ]
  },
  {
   "cell_type": "markdown",
   "metadata": {},
   "source": [
    "### Link CRSP and Compustat"
   ]
  },
  {
   "cell_type": "code",
   "execution_count": 3,
   "metadata": {},
   "outputs": [],
   "source": [
    "# Fix LINKDT and LINKENDDT dates\n",
    "linking_table.LINKDT = pandas.to_datetime(linking_table.LINKDT.astype(str), format='%Y%m%d', errors='coerce').fillna(datetime.date.today())\n",
    "linking_table.LINKENDDT = pandas.to_datetime(linking_table.LINKENDDT.astype(str), format='%Y%m%d', errors='coerce').fillna(datetime.date.today())"
   ]
  },
  {
   "cell_type": "code",
   "execution_count": 4,
   "metadata": {},
   "outputs": [],
   "source": [
    "# Merge compustat and linking_table based on gvkey to get permnos for each compustat company\n",
    "compustat_link = compustat.merge(linking_table, on='gvkey')"
   ]
  },
  {
   "cell_type": "code",
   "execution_count": 9,
   "metadata": {},
   "outputs": [],
   "source": [
    "compustat_link.datadate = pandas.to_datetime(compustat_link.datadate.astype(str), format='%m/%d/%Y')"
   ]
  },
  {
   "cell_type": "code",
   "execution_count": 10,
   "metadata": {},
   "outputs": [],
   "source": [
    "# Drop dates that are not in the effective range in linking_table\n",
    "compustat_link = compustat_link[(compustat_link.datadate >= compustat_link.LINKDT) & (compustat_link.datadate <= compustat_link.LINKENDDT)]"
   ]
  },
  {
   "cell_type": "code",
   "execution_count": 11,
   "metadata": {},
   "outputs": [],
   "source": [
    "# Create year column in crsp to link with permno\n",
    "crsp['year'] = pandas.to_datetime(crsp.date, format='%m/%d/%Y').dt.year;"
   ]
  },
  {
   "cell_type": "code",
   "execution_count": 12,
   "metadata": {},
   "outputs": [],
   "source": [
    "# Create permnoyear column for crsp and compustat\n",
    "crsp['permnoyear'] = crsp.PERMNO.map(str) + crsp.year.map(str)\n",
    "compustat_link['permnoyear'] = compustat_link.LPERMNO.map(str) + compustat_link.fyear.map(str)"
   ]
  },
  {
   "cell_type": "code",
   "execution_count": 13,
   "metadata": {
    "scrolled": true
   },
   "outputs": [],
   "source": [
    "# For each year, we need the most recent value, so I am goruping it by permnoyear and then\n",
    "# just taking the tail (last member) of the group. Its quick and dirty and we probably want \n",
    "# a better way to do this so we know we are getting the last value if the data isn't sorted\n",
    "crspGetLastYear = crsp[['permnoyear','EXCHCD','SICCD','SHROUT' ,'SHRCLS','PRIMEXCH', 'date']]\n",
    "crspGetLastYear = crspGetLastYear.groupby('permnoyear').tail(1)"
   ]
  },
  {
   "cell_type": "code",
   "execution_count": 14,
   "metadata": {},
   "outputs": [],
   "source": [
    "# These columns need to be summed for each year, which is being done here\n",
    "# RET is a str column and sometimes has error characters so still need to handle that\n",
    "crspSum = crsp[['permnoyear', 'PRC', 'RET', 'vwretd', 'sprtrn']]\n",
    "crspSum = crspSum.groupby(by=['permnoyear'])['sprtrn', 'PRC', 'RET', 'vwretd', 'sprtrn'].sum()"
   ]
  },
  {
   "cell_type": "code",
   "execution_count": 15,
   "metadata": {},
   "outputs": [],
   "source": [
    "# Merge the two annualized subset dataframes back together\n",
    "crsp_link = crspSum.merge(crspGetLastYear, on='permnoyear')"
   ]
  },
  {
   "cell_type": "code",
   "execution_count": 16,
   "metadata": {},
   "outputs": [
    {
     "name": "stdout",
     "output_type": "stream",
     "text": [
      "Index(['gvkey', 'datadate', 'fyear', 'indfmt', 'consol', 'popsrc', 'datafmt',\n",
      "       'tic', 'curcd', 'act', 'at', 'capx', 'ceq', 'che', 'cogs', 'csho',\n",
      "       'dlc', 'dltt', 'dp', 'ebit', 'ib', 'lct', 'lt', 'mib', 'mibt', 'pi',\n",
      "       'pstk', 'pstkl', 'pstkrv', 're', 'revt', 'sale', 'seq', 'tie', 'txp',\n",
      "       'txt', 'costat', 'conm', 'LINKPRIM', 'LIID', 'LINKTYPE', 'LPERMNO',\n",
      "       'LPERMCO', 'LINKDT', 'LINKENDDT', 'permnoyear', 'sprtrn', 'PRC',\n",
      "       'vwretd', 'sprtrn', 'EXCHCD', 'SICCD', 'SHROUT', 'SHRCLS', 'PRIMEXCH',\n",
      "       'date'],\n",
      "      dtype='object')\n"
     ]
    }
   ],
   "source": [
    "# Merge crsp and compustat by permnoyear and convert permnoyear to ints\n",
    "model_data = compustat_link.merge(crsp_link, on='permnoyear')\n",
    "model_data[\"permnoyear\"] = pandas.to_numeric(model_data[\"permnoyear\"])\n",
    "print(model_data.columns)"
   ]
  },
  {
   "cell_type": "markdown",
   "metadata": {},
   "source": [
    "### Validation"
   ]
  },
  {
   "cell_type": "code",
   "execution_count": 17,
   "metadata": {},
   "outputs": [
    {
     "name": "stdout",
     "output_type": "stream",
     "text": [
      "Shape of model_data (319175, 56)\n",
      "Shape of crsp (4118557, 14)\n",
      "Shape of compustat (474879, 37)\n"
     ]
    }
   ],
   "source": [
    "print('Shape of model_data {}'.format(model_data.shape))\n",
    "print('Shape of crsp {}'.format(crsp.shape))\n",
    "print('Shape of compustat {}'.format(compustat.shape))"
   ]
  },
  {
   "cell_type": "code",
   "execution_count": null,
   "metadata": {},
   "outputs": [],
   "source": [
    "linking_table"
   ]
  },
  {
   "cell_type": "code",
   "execution_count": null,
   "metadata": {},
   "outputs": [],
   "source": []
  }
 ],
 "metadata": {
  "kernelspec": {
   "display_name": "Python 3",
   "language": "python",
   "name": "python3"
  },
  "language_info": {
   "codemirror_mode": {
    "name": "ipython",
    "version": 3
   },
   "file_extension": ".py",
   "mimetype": "text/x-python",
   "name": "python",
   "nbconvert_exporter": "python",
   "pygments_lexer": "ipython3",
   "version": "3.6.7"
  }
 },
 "nbformat": 4,
 "nbformat_minor": 2
}
