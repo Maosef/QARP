{
 "cells": [
  {
   "cell_type": "markdown",
   "metadata": {},
   "source": [
    "# QARP Model"
   ]
  },
  {
   "cell_type": "markdown",
   "metadata": {},
   "source": [
    "### 1. Compute Factors"
   ]
  },
  {
   "cell_type": "code",
   "execution_count": 13,
   "metadata": {},
   "outputs": [],
   "source": [
    "# import libraries\n",
    "import pandas\n",
    "import numpy as np\n",
    "import datetime\n",
    "import collections"
   ]
  },
  {
   "cell_type": "code",
   "execution_count": 68,
   "metadata": {},
   "outputs": [],
   "source": [
    "# helper functions\n",
    "\n",
    "\"\"\" Gets the lagged difference for each company. \"\"\"\n",
    "def diffCol(col, gvkey, step):\n",
    "    return stepLookback([col], gvkey, [step], lambda x: x[\"col0\"] - x[\"col0_shift0\"])\n",
    "\n",
    "\"\"\" Gets a binary column of whether the lagged and current values are negative. \"\"\"\n",
    "def negLookback(col, gvkey, step):\n",
    "    return stepLookback([col], gvkey, [step], lambda x: 1 if x[\"col0\"] < 0 and x[\"col0_shift0\"] < 0 else 0)\n",
    "\n",
    "\"\"\" Gets a column of the sum of absolute values of lagged and current values. \"\"\"\n",
    "def absAddition(col, gvkey, step):\n",
    "    return stepLookback([col], gvkey, [step], lambda x: abs(x[\"col0\"]) + abs(x[\"col0_shift0\"]))\n",
    "\n",
    "\"\"\" Gets a column of covariances for the past k values of two columns. \"\"\"\n",
    "def covariance(col1, col2, gvkey, k):\n",
    "    def covarFunc(row):\n",
    "        data1 = [row[\"col0\"]]\n",
    "        data2 = [row[\"col1\"]]\n",
    "        for i in range(k):\n",
    "            data1.append(row[\"col0_shift\" + str(i)])\n",
    "            data2.append(row[\"col1_shift\" + str(i)])\n",
    "        return np.cov(np.array(data1), np.array(data2))[0][1]\n",
    "    return stepLookback([col1, col2], gvkey, list(range(1, k+1)), covarFunc)\n",
    "\n",
    "\"\"\" Gets a column of variances for the past k values of a column. \"\"\"\n",
    "def variance(col, gvkey, k):\n",
    "    def varFunc(row):\n",
    "        data = [row[\"col0\"]]\n",
    "        for i in range(k):\n",
    "            data.append(row[\"col0_shift\" + str(i)])\n",
    "        return np.var(np.array(data))\n",
    "    return stepLookback([col], gvkey, list(range(1, k+1)), varFunc)\n",
    "\n",
    "def stdev(col, gvkey, k):\n",
    "    def varFunc(row):\n",
    "        data = [row[\"col0\"]]\n",
    "        for i in range(k):\n",
    "            data.append(row[\"col0_shift\" + str(i)])\n",
    "        return np.std(np.array(data))\n",
    "    return stepLookback([col], gvkey, list(range(1, k+1)), varFunc)\n",
    "\n",
    "\"\"\" Applies func() to col[i] and col[i-step] all columns given, if they have the same gvkey. \"\"\"\n",
    "def stepLookback(column, gvkey, step, func, output_name=\"diffCol\"):\n",
    "    dt = pandas.DataFrame()\n",
    "    \n",
    "    # Copy all columns to dt\n",
    "    if not isinstance(column, collections.Iterable):\n",
    "        column = [column]\n",
    "    for i, col in enumerate(column):\n",
    "        dt[\"col\" + str(i)] = col\n",
    "    \n",
    "    # Add the shifted columns to dt\n",
    "    if not isinstance(step, collections.Iterable):\n",
    "        step = [step]\n",
    "    for i, s in enumerate(step):\n",
    "        for j, col in enumerate(column):\n",
    "            dt[\"col\" + str(j) + \"_shift\" + str(i)] = col.shift(s)\n",
    "        dt[\"gvkeyDiff\" + str(i)] = gvkey.diff(periods=s)\n",
    "\n",
    "    print(dt.columns)\n",
    "    \n",
    "    # Call func() on all rows such that the shifted columns have the same gvkey\n",
    "    dt[output_name] = dt.apply(lambda x: func(x) if all([x[\"gvkeyDiff\" + str(i)] == 0 for i in range(len(step))]) \\\n",
    "                                               else float(\"NaN\"), axis=1)\n",
    "\n",
    "    return dt[output_name]"
   ]
  },
  {
   "cell_type": "code",
   "execution_count": 61,
   "metadata": {},
   "outputs": [],
   "source": [
    "# Import csv data\n",
    "compustat = pandas.read_csv(\"Compustat19612018.csv\")\n",
    "# Used dtypes here to speed up function\n",
    "crsp = pandas.read_csv(\"CRSP1960_2018.csv\", \\\n",
    "    dtype={'PERMNO': int, 'date': str, 'EXCHCD': float, 'SICCD': str, 'SHRCLS': str, 'PRIMEXCH': str, \\\n",
    "           'PRC': float, 'RET': str, 'SHROUT': float, 'CFACSHR': float, 'vwretd': float, 'sprtrn': float})\n",
    "cpi = pandas.read_csv(\"CPIData.csv\")\n",
    "linking_table = pandas.read_csv('CompustatMergedDatabase.csv')"
   ]
  },
  {
   "cell_type": "markdown",
   "metadata": {},
   "source": [
    "#### Link CRSP and Compustat"
   ]
  },
  {
   "cell_type": "code",
   "execution_count": 16,
   "metadata": {},
   "outputs": [],
   "source": [
    "# Fix LINKDT and LINKENDDT dates\n",
    "linking_table.LINKDT = pandas.to_datetime(linking_table.LINKDT.astype(str), format='%Y%m%d', errors='coerce').fillna(datetime.date.today())\n",
    "linking_table.LINKENDDT = pandas.to_datetime(linking_table.LINKENDDT.astype(str), format='%Y%m%d', errors='coerce').fillna(datetime.date.today())"
   ]
  },
  {
   "cell_type": "code",
   "execution_count": 17,
   "metadata": {},
   "outputs": [],
   "source": [
    "# Merge compustat and linking_table based on gvkey to get permnos for each compustat company\n",
    "compustat = compustat.merge(linking_table, on='gvkey')"
   ]
  },
  {
   "cell_type": "code",
   "execution_count": 18,
   "metadata": {},
   "outputs": [],
   "source": [
    "# Create year column in crsp to link with permno\n",
    "crsp['year'] = pandas.to_datetime(crsp.date, format='%m/%d/%Y').dt.year;"
   ]
  },
  {
   "cell_type": "code",
   "execution_count": 19,
   "metadata": {},
   "outputs": [],
   "source": [
    "# Create permnoyear column for crsp and compustat\n",
    "crsp['permnoyear'] = crsp.PERMNO.map(str) + crsp.year.map(str)\n",
    "compustat['permnoyear'] = compustat.LPERMNO.map(str) + compustat.fyear.map(str)"
   ]
  },
  {
   "cell_type": "code",
   "execution_count": 20,
   "metadata": {
    "scrolled": true
   },
   "outputs": [],
   "source": [
    "# For each year, we need the most recent value, so I am goruping it by permnoyear and then\n",
    "# just taking the tail (last member) of the group. Its quick and dirty and we probably want \n",
    "# a better way to do this so we know we are getting the last value if the data isn't sorted\n",
    "crspGetLastYear = crsp[['permnoyear','EXCHCD','SICCD','SHROUT' ,'SHRCLS','PRIMEXCH', 'date']]\n",
    "crspGetLastYear = crspGetLastYear.groupby('permnoyear').tail(1)"
   ]
  },
  {
   "cell_type": "code",
   "execution_count": 21,
   "metadata": {},
   "outputs": [],
   "source": [
    "# These columns need to be summed for each year, which is being done here\n",
    "# RET is a str column and sometimes has error characters so still need to handle that\n",
    "crspSum = crsp[['permnoyear', 'PRC', 'RET', 'vwretd', 'sprtrn']]\n",
    "crspSum = crspSum.groupby(by=['permnoyear'])['PRC', 'RET', 'vwretd', 'sprtrn'].sum()"
   ]
  },
  {
   "cell_type": "code",
   "execution_count": 22,
   "metadata": {},
   "outputs": [],
   "source": [
    "# Merge the two annualized subset dataframes back together\n",
    "crsp = crspSum.merge(crspGetLastYear, on='permnoyear')"
   ]
  },
  {
   "cell_type": "code",
   "execution_count": 23,
   "metadata": {},
   "outputs": [
    {
     "name": "stdout",
     "output_type": "stream",
     "text": [
      "Index(['gvkey', 'datadate', 'fyear', 'indfmt', 'consol', 'popsrc', 'datafmt',\n",
      "       'tic', 'curcd', 'act', 'at', 'capx', 'ceq', 'che', 'cogs', 'csho',\n",
      "       'dlc', 'dltt', 'dp', 'ebit', 'ib', 'lct', 'lt', 'mib', 'mibt', 'pi',\n",
      "       'pstk', 'pstkl', 'pstkrv', 're', 'revt', 'sale', 'seq', 'tie', 'txp',\n",
      "       'txt', 'costat', 'conm', 'LINKPRIM', 'LIID', 'LINKTYPE', 'LPERMNO',\n",
      "       'LPERMCO', 'LINKDT', 'LINKENDDT', 'permnoyear', 'PRC', 'vwretd',\n",
      "       'sprtrn', 'EXCHCD', 'SICCD', 'SHROUT', 'SHRCLS', 'PRIMEXCH', 'date'],\n",
      "      dtype='object')\n",
      "Index(['gvkey', 'datadate', 'fyear', 'indfmt', 'consol', 'popsrc', 'datafmt',\n",
      "       'tic', 'curcd', 'act', 'at', 'capx', 'ceq', 'che', 'cogs', 'csho',\n",
      "       'dlc', 'dltt', 'dp', 'ebit', 'ib', 'lct', 'lt', 'mib', 'mibt', 'pi',\n",
      "       'pstk', 'pstkl', 'pstkrv', 're', 'revt', 'sale', 'seq', 'tie', 'txp',\n",
      "       'txt', 'costat', 'conm', 'LINKPRIM', 'LIID', 'LINKTYPE', 'LPERMNO',\n",
      "       'LPERMCO', 'LINKDT', 'LINKENDDT', 'permnoyear', 'PRC', 'vwretd',\n",
      "       'sprtrn', 'EXCHCD', 'SICCD', 'SHROUT', 'SHRCLS', 'PRIMEXCH', 'date'],\n",
      "      dtype='object')\n",
      "Index(['gvkey', 'datadate', 'fyear', 'indfmt', 'consol', 'popsrc', 'datafmt',\n",
      "       'tic', 'curcd', 'act', 'at', 'capx', 'ceq', 'che', 'cogs', 'csho',\n",
      "       'dlc', 'dltt', 'dp', 'ebit', 'ib', 'lct', 'lt', 'mib', 'mibt', 'pi',\n",
      "       'pstk', 'pstkl', 'pstkrv', 're', 'revt', 'sale', 'seq', 'tie', 'txp',\n",
      "       'txt', 'costat', 'conm', 'LINKPRIM', 'LIID', 'LINKTYPE', 'LPERMNO',\n",
      "       'LPERMCO', 'LINKDT', 'LINKENDDT', 'permnoyear', 'PRC', 'vwretd',\n",
      "       'sprtrn', 'EXCHCD', 'SICCD', 'SHROUT', 'SHRCLS', 'PRIMEXCH', 'date'],\n",
      "      dtype='object')\n"
     ]
    }
   ],
   "source": [
    "# Merge crsp and compustat by permnoyear and convert permnoyear to ints\n",
    "model_data = compustat.merge(crsp, on='permnoyear')\n",
    "model_data[\"permnoyear\"] = pandas.to_numeric(model_data[\"permnoyear\"])\n",
    "\n",
    "# A frame to store all the computed\n",
    "factor_data = model_data[\"SICCD\"].to_frame()"
   ]
  },
  {
   "cell_type": "markdown",
   "metadata": {},
   "source": [
    "#### Profitability Factors\n",
    "1. gross profits over assets (GPOA) = (Revenue - costs of goods sold) / total assets\n",
    "2. return on equity (ROE) = net income / book-equity \n",
    "3. return on assets (ROA) = net income / total assets\n",
    "4. cash flow over assets (CFOA) = (net income + depreciation - changes in working capital - capital expenditures) / total assets\n",
    "5. gross margin (GMAR) = (revenue - cost of goods sold) / total sales\n",
    "6. low accruals (ACC) = - (change in working capital - depreciation) / total assets\n"
   ]
  },
  {
   "cell_type": "code",
   "execution_count": 46,
   "metadata": {},
   "outputs": [],
   "source": [
    "# GPOA\n",
    "gp = model_data.revt - model_data.cogs\n",
    "gpoa = gp / model_data[\"at\"]\n",
    "\n",
    "# ROE\n",
    "be = (model_data.seq - model_data.pstk).fillna(model_data.ceq + model_data.pstk).fillna(model_data[\"at\"] - model_data[\"lt\"] + compustat[\"mibt\"])\n",
    "roe = model_data[\"ib\"] / be\n",
    "\n",
    "# ROA\n",
    "roa = model_data[\"ib\"] / model_data[\"at\"]\n",
    "\n",
    "# CFOA\n",
    "wc = model_data[\"act\"] - model_data[\"lct\"] - model_data[\"che\"] + model_data[\"dlc\"] + model_data[\"txp\"]\n",
    "wcDiff = diffCol(wc, model_data[\"gvkey\"], 1)\n",
    "cf = model_data[\"ib\"] + model_data[\"dp\"] - wcDiff - model_data[\"capx\"]\n",
    "cfoa = cf / model_data[\"at\"]\n",
    "\n",
    "# GMAR\n",
    "gmar = gp / model_data[\"sale\"]\n",
    "\n",
    "# ACC\n",
    "acc = -wcDiff / model_data[\"at\"]"
   ]
  },
  {
   "cell_type": "markdown",
   "metadata": {},
   "source": [
    "#### Growth Factors\n",
    "Five year growth of profitability factors"
   ]
  },
  {
   "cell_type": "code",
   "execution_count": 47,
   "metadata": {},
   "outputs": [],
   "source": [
    "# Store for calculating later\n",
    "ib = model_data[\"ib\"]\n",
    "diffIb = diffCol(ib, model_data[\"gvkey\"], 5)\n",
    "diffGp = diffCol(gp, model_data[\"gvkey\"], 5)\n",
    "atShift = model_data[\"at\"].shift(5)\n",
    "ceqShift = model_data[\"ceq\"].shift(5)\n",
    "\n",
    "# Growth factors\n",
    "delGpoa = diffGp / atShift\n",
    "delRoe = diffIb / ceqShift\n",
    "delRoa = diffIb / atShift\n",
    "delCfoa = diffCol(cf, model_data[\"gvkey\"], 5) / ceqShift\n",
    "delGpoa = diffGp / ceqShift"
   ]
  },
  {
   "cell_type": "markdown",
   "metadata": {},
   "source": [
    "#### Safety Factors\n",
    "\n",
    "1. low beta (BAB) = cov(value-weighted return, S&P 500 return) / var(S&P 500 return)\n",
    "2. low leverage (LEV) = - (total debt) / total assets\n",
    "3. Ohlson’s O-score (OSCORE) = - (-1.32 - 0.407 * log(ADJASSET/CPI) + 6.03 * TLTA - 1.43 * WCTA + 0.076 * CLCA - 1.72 * OENEG - 2.37 * NITA - 1.83 * FUTL + 0.285 * INTWO - 0.521 * CHIN)\n",
    "    *  Adjusted Total Assets (ADJASSET) = total assets + 10% * (Market equity - Book Equity)\n",
    "    * Consumer Price Index (CPI)\n",
    "    * Book Value of Debt (TLTA) = book value of debt / ADJASSET\n",
    "    * Working Capital to Assets (WCTA) = (current assets - current liabilities) / ADJASSET\n",
    "    * Current Liabilities to Assets (CLCA) = current liabilities / current assets\n",
    "    * OENEG = 1 if total liabilities exceed total assets\n",
    "    * Net income to asssets (NITA) = net income / total assets\n",
    "    * Pretax Income to Liabilities(FUTL) = pretax income / total liabilites\n",
    "    * INTWO = 1 if net income is negative for the current and prior fiscal year\n",
    "    * (CHIN) = change in net income\n",
    "4. Altmans Z-Score (AZSCORE) = (1.2 Working Capital + 1.4 Retained Earnings + 3.3 EBIT + 0.6 Market Cap + Sales) / Total Assets\n",
    "5. low ROE volatility (EVOL) = Standard deviation of quarterly ROE over the past 60 quarters or 5 years (if quarterly null)\n"
   ]
  },
  {
   "cell_type": "code",
   "execution_count": 48,
   "metadata": {},
   "outputs": [
    {
     "name": "stderr",
     "output_type": "stream",
     "text": [
      "/anaconda3/lib/python3.7/site-packages/ipykernel_launcher.py:16: RuntimeWarning: divide by zero encountered in log\n",
      "  app.launch_new_instance()\n",
      "/anaconda3/lib/python3.7/site-packages/ipykernel_launcher.py:16: RuntimeWarning: invalid value encountered in log\n",
      "  app.launch_new_instance()\n"
     ]
    }
   ],
   "source": [
    "# Safety factors\n",
    "bab = covariance(model_data[\"vwretd\"], model_data[\"sprtrn\"], model_data[\"gvkey\"], 5) \\\n",
    "        / variance(model_data[\"sprtrn\"], model_data[\"gvkey\"], 5)\n",
    "lev = -(model_data[\"dltt\"] + model_data[\"dlc\"] + model_data[\"mibt\"] + model_data[\"pstk\"]) / model_data[\"at\"]\n",
    "evol = stdev(roe, model_data[\"gvkey\"], 15)\n",
    "\n",
    "# Oholn's O-score\n",
    "adjasset = model_data[\"at\"] + 0.1*(model_data[\"csho\"] * model_data[\"PRC\"] - model_data[\"ceq\"])\n",
    "tlta = (model_data[\"dlc\"] + model_data[\"dltt\"]) / adjasset\n",
    "wcta = (model_data[\"act\"] - model_data[\"lct\"]) / adjasset\n",
    "clca = model_data[\"lct\"] / model_data[\"act\"]\n",
    "oeneg = model_data[\"lt\"] - model_data[\"at\"]\n",
    "oeneg[oeneg <= 0] = 0\n",
    "nita = model_data[\"ib\"] / model_data[\"at\"]\n",
    "futl = model_data[\"pi\"] / model_data[\"lt\"]\n",
    "intwo = negLookback(model_data[\"ib\"], model_data[\"gvkey\"], 1)\n",
    "chin = diffCol(model_data[\"ib\"], model_data[\"gvkey\"], 1) / absAddition(model_data[\"ib\"], model_data[\"gvkey\"], 1)\n",
    "oscore = -(-1.32 - 0.407 * np.log(adjasset / 1) + 6.03 * tlta - 1.43 * wcta + 0.076 * clca \\\n",
    "           - 1.72 * oeneg - 2.37 * nita - 1.83 * futl + 0.285 * intwo - 0.521 * chin)  # Dividing by 1 instead of CPI\n",
    "\n",
    "# Altman's Z-score\n",
    "ebit = model_data[\"ib\"] + model_data[\"tie\"] + model_data[\"txt\"]\n",
    "me = model_data[\"csho\"] * model_data[\"PRC\"]\n",
    "azscore = (1.2 * wc + 1.4 * model_data[\"re\"] + 3.3 * ebit + 0.6 * me) / model_data[\"at\"]"
   ]
  },
  {
   "cell_type": "code",
   "execution_count": 74,
   "metadata": {},
   "outputs": [
    {
     "ename": "KeyError",
     "evalue": "'CFACSHR'",
     "output_type": "error",
     "traceback": [
      "\u001b[0;31m---------------------------------------------------------------------------\u001b[0m",
      "\u001b[0;31mKeyError\u001b[0m                                  Traceback (most recent call last)",
      "\u001b[0;32m/anaconda3/lib/python3.7/site-packages/pandas/core/indexes/base.py\u001b[0m in \u001b[0;36mget_loc\u001b[0;34m(self, key, method, tolerance)\u001b[0m\n\u001b[1;32m   3077\u001b[0m             \u001b[0;32mtry\u001b[0m\u001b[0;34m:\u001b[0m\u001b[0;34m\u001b[0m\u001b[0m\n\u001b[0;32m-> 3078\u001b[0;31m                 \u001b[0;32mreturn\u001b[0m \u001b[0mself\u001b[0m\u001b[0;34m.\u001b[0m\u001b[0m_engine\u001b[0m\u001b[0;34m.\u001b[0m\u001b[0mget_loc\u001b[0m\u001b[0;34m(\u001b[0m\u001b[0mkey\u001b[0m\u001b[0;34m)\u001b[0m\u001b[0;34m\u001b[0m\u001b[0m\n\u001b[0m\u001b[1;32m   3079\u001b[0m             \u001b[0;32mexcept\u001b[0m \u001b[0mKeyError\u001b[0m\u001b[0;34m:\u001b[0m\u001b[0;34m\u001b[0m\u001b[0m\n",
      "\u001b[0;32mpandas/_libs/index.pyx\u001b[0m in \u001b[0;36mpandas._libs.index.IndexEngine.get_loc\u001b[0;34m()\u001b[0m\n",
      "\u001b[0;32mpandas/_libs/index.pyx\u001b[0m in \u001b[0;36mpandas._libs.index.IndexEngine.get_loc\u001b[0;34m()\u001b[0m\n",
      "\u001b[0;32mpandas/_libs/hashtable_class_helper.pxi\u001b[0m in \u001b[0;36mpandas._libs.hashtable.PyObjectHashTable.get_item\u001b[0;34m()\u001b[0m\n",
      "\u001b[0;32mpandas/_libs/hashtable_class_helper.pxi\u001b[0m in \u001b[0;36mpandas._libs.hashtable.PyObjectHashTable.get_item\u001b[0;34m()\u001b[0m\n",
      "\u001b[0;31mKeyError\u001b[0m: 'CFACSHR'",
      "\nDuring handling of the above exception, another exception occurred:\n",
      "\u001b[0;31mKeyError\u001b[0m                                  Traceback (most recent call last)",
      "\u001b[0;32m<ipython-input-74-facf163e519b>\u001b[0m in \u001b[0;36m<module>\u001b[0;34m()\u001b[0m\n\u001b[1;32m      1\u001b[0m \u001b[0;31m# Payout factors\u001b[0m\u001b[0;34m\u001b[0m\u001b[0;34m\u001b[0m\u001b[0m\n\u001b[0;32m----> 2\u001b[0;31m \u001b[0mshrout_adj\u001b[0m \u001b[0;34m=\u001b[0m \u001b[0mmodel_data\u001b[0m\u001b[0;34m[\u001b[0m\u001b[0;34m'SHROUT'\u001b[0m\u001b[0;34m]\u001b[0m \u001b[0;34m*\u001b[0m \u001b[0mmodel_data\u001b[0m\u001b[0;34m[\u001b[0m\u001b[0;34m'CFACSHR'\u001b[0m\u001b[0;34m]\u001b[0m\u001b[0;34m\u001b[0m\u001b[0m\n\u001b[0m\u001b[1;32m      3\u001b[0m \u001b[0meiss\u001b[0m \u001b[0;34m=\u001b[0m \u001b[0;34m-\u001b[0m\u001b[0mnp\u001b[0m\u001b[0;34m.\u001b[0m\u001b[0mlog\u001b[0m\u001b[0;34m(\u001b[0m\u001b[0mdiffCol\u001b[0m\u001b[0;34m(\u001b[0m\u001b[0mmodel_data\u001b[0m\u001b[0;34m[\u001b[0m\u001b[0;34m'SHROUT'\u001b[0m\u001b[0;34m]\u001b[0m\u001b[0;34m,\u001b[0m \u001b[0mmodel_data\u001b[0m\u001b[0;34m[\u001b[0m\u001b[0;34m\"gvkey\"\u001b[0m\u001b[0;34m]\u001b[0m\u001b[0;34m,\u001b[0m \u001b[0;36m1\u001b[0m\u001b[0;34m)\u001b[0m\u001b[0;34m)\u001b[0m\u001b[0;34m\u001b[0m\u001b[0m\n\u001b[1;32m      4\u001b[0m \u001b[0mtotd\u001b[0m \u001b[0;34m=\u001b[0m \u001b[0mmodel_data\u001b[0m\u001b[0;34m[\u001b[0m\u001b[0;34m'dltt'\u001b[0m\u001b[0;34m]\u001b[0m \u001b[0;34m+\u001b[0m \u001b[0mmodel_data\u001b[0m\u001b[0;34m[\u001b[0m\u001b[0;34m'dlc'\u001b[0m\u001b[0;34m]\u001b[0m \u001b[0;34m+\u001b[0m \u001b[0mmodel_data\u001b[0m\u001b[0;34m[\u001b[0m\u001b[0;34m'mibt'\u001b[0m\u001b[0;34m]\u001b[0m \u001b[0;34m+\u001b[0m \u001b[0mmodel_data\u001b[0m\u001b[0;34m[\u001b[0m\u001b[0;34m'pstk'\u001b[0m\u001b[0;34m]\u001b[0m\u001b[0;34m\u001b[0m\u001b[0m\n\u001b[1;32m      5\u001b[0m \u001b[0mdiss\u001b[0m \u001b[0;34m=\u001b[0m \u001b[0;34m-\u001b[0m\u001b[0mnp\u001b[0m\u001b[0;34m.\u001b[0m\u001b[0mlog\u001b[0m\u001b[0;34m(\u001b[0m\u001b[0mdiffCol\u001b[0m\u001b[0;34m(\u001b[0m\u001b[0;34m'totd'\u001b[0m\u001b[0;34m,\u001b[0m \u001b[0mmodel_data\u001b[0m\u001b[0;34m[\u001b[0m\u001b[0;34m\"gvkey\"\u001b[0m\u001b[0;34m]\u001b[0m\u001b[0;34m,\u001b[0m \u001b[0;36m1\u001b[0m\u001b[0;34m)\u001b[0m\u001b[0;34m)\u001b[0m\u001b[0;34m\u001b[0m\u001b[0m\n",
      "\u001b[0;32m/anaconda3/lib/python3.7/site-packages/pandas/core/frame.py\u001b[0m in \u001b[0;36m__getitem__\u001b[0;34m(self, key)\u001b[0m\n\u001b[1;32m   2686\u001b[0m             \u001b[0;32mreturn\u001b[0m \u001b[0mself\u001b[0m\u001b[0;34m.\u001b[0m\u001b[0m_getitem_multilevel\u001b[0m\u001b[0;34m(\u001b[0m\u001b[0mkey\u001b[0m\u001b[0;34m)\u001b[0m\u001b[0;34m\u001b[0m\u001b[0m\n\u001b[1;32m   2687\u001b[0m         \u001b[0;32melse\u001b[0m\u001b[0;34m:\u001b[0m\u001b[0;34m\u001b[0m\u001b[0m\n\u001b[0;32m-> 2688\u001b[0;31m             \u001b[0;32mreturn\u001b[0m \u001b[0mself\u001b[0m\u001b[0;34m.\u001b[0m\u001b[0m_getitem_column\u001b[0m\u001b[0;34m(\u001b[0m\u001b[0mkey\u001b[0m\u001b[0;34m)\u001b[0m\u001b[0;34m\u001b[0m\u001b[0m\n\u001b[0m\u001b[1;32m   2689\u001b[0m \u001b[0;34m\u001b[0m\u001b[0m\n\u001b[1;32m   2690\u001b[0m     \u001b[0;32mdef\u001b[0m \u001b[0m_getitem_column\u001b[0m\u001b[0;34m(\u001b[0m\u001b[0mself\u001b[0m\u001b[0;34m,\u001b[0m \u001b[0mkey\u001b[0m\u001b[0;34m)\u001b[0m\u001b[0;34m:\u001b[0m\u001b[0;34m\u001b[0m\u001b[0m\n",
      "\u001b[0;32m/anaconda3/lib/python3.7/site-packages/pandas/core/frame.py\u001b[0m in \u001b[0;36m_getitem_column\u001b[0;34m(self, key)\u001b[0m\n\u001b[1;32m   2693\u001b[0m         \u001b[0;31m# get column\u001b[0m\u001b[0;34m\u001b[0m\u001b[0;34m\u001b[0m\u001b[0m\n\u001b[1;32m   2694\u001b[0m         \u001b[0;32mif\u001b[0m \u001b[0mself\u001b[0m\u001b[0;34m.\u001b[0m\u001b[0mcolumns\u001b[0m\u001b[0;34m.\u001b[0m\u001b[0mis_unique\u001b[0m\u001b[0;34m:\u001b[0m\u001b[0;34m\u001b[0m\u001b[0m\n\u001b[0;32m-> 2695\u001b[0;31m             \u001b[0;32mreturn\u001b[0m \u001b[0mself\u001b[0m\u001b[0;34m.\u001b[0m\u001b[0m_get_item_cache\u001b[0m\u001b[0;34m(\u001b[0m\u001b[0mkey\u001b[0m\u001b[0;34m)\u001b[0m\u001b[0;34m\u001b[0m\u001b[0m\n\u001b[0m\u001b[1;32m   2696\u001b[0m \u001b[0;34m\u001b[0m\u001b[0m\n\u001b[1;32m   2697\u001b[0m         \u001b[0;31m# duplicate columns & possible reduce dimensionality\u001b[0m\u001b[0;34m\u001b[0m\u001b[0;34m\u001b[0m\u001b[0m\n",
      "\u001b[0;32m/anaconda3/lib/python3.7/site-packages/pandas/core/generic.py\u001b[0m in \u001b[0;36m_get_item_cache\u001b[0;34m(self, item)\u001b[0m\n\u001b[1;32m   2487\u001b[0m         \u001b[0mres\u001b[0m \u001b[0;34m=\u001b[0m \u001b[0mcache\u001b[0m\u001b[0;34m.\u001b[0m\u001b[0mget\u001b[0m\u001b[0;34m(\u001b[0m\u001b[0mitem\u001b[0m\u001b[0;34m)\u001b[0m\u001b[0;34m\u001b[0m\u001b[0m\n\u001b[1;32m   2488\u001b[0m         \u001b[0;32mif\u001b[0m \u001b[0mres\u001b[0m \u001b[0;32mis\u001b[0m \u001b[0;32mNone\u001b[0m\u001b[0;34m:\u001b[0m\u001b[0;34m\u001b[0m\u001b[0m\n\u001b[0;32m-> 2489\u001b[0;31m             \u001b[0mvalues\u001b[0m \u001b[0;34m=\u001b[0m \u001b[0mself\u001b[0m\u001b[0;34m.\u001b[0m\u001b[0m_data\u001b[0m\u001b[0;34m.\u001b[0m\u001b[0mget\u001b[0m\u001b[0;34m(\u001b[0m\u001b[0mitem\u001b[0m\u001b[0;34m)\u001b[0m\u001b[0;34m\u001b[0m\u001b[0m\n\u001b[0m\u001b[1;32m   2490\u001b[0m             \u001b[0mres\u001b[0m \u001b[0;34m=\u001b[0m \u001b[0mself\u001b[0m\u001b[0;34m.\u001b[0m\u001b[0m_box_item_values\u001b[0m\u001b[0;34m(\u001b[0m\u001b[0mitem\u001b[0m\u001b[0;34m,\u001b[0m \u001b[0mvalues\u001b[0m\u001b[0;34m)\u001b[0m\u001b[0;34m\u001b[0m\u001b[0m\n\u001b[1;32m   2491\u001b[0m             \u001b[0mcache\u001b[0m\u001b[0;34m[\u001b[0m\u001b[0mitem\u001b[0m\u001b[0;34m]\u001b[0m \u001b[0;34m=\u001b[0m \u001b[0mres\u001b[0m\u001b[0;34m\u001b[0m\u001b[0m\n",
      "\u001b[0;32m/anaconda3/lib/python3.7/site-packages/pandas/core/internals.py\u001b[0m in \u001b[0;36mget\u001b[0;34m(self, item, fastpath)\u001b[0m\n\u001b[1;32m   4113\u001b[0m \u001b[0;34m\u001b[0m\u001b[0m\n\u001b[1;32m   4114\u001b[0m             \u001b[0;32mif\u001b[0m \u001b[0;32mnot\u001b[0m \u001b[0misna\u001b[0m\u001b[0;34m(\u001b[0m\u001b[0mitem\u001b[0m\u001b[0;34m)\u001b[0m\u001b[0;34m:\u001b[0m\u001b[0;34m\u001b[0m\u001b[0m\n\u001b[0;32m-> 4115\u001b[0;31m                 \u001b[0mloc\u001b[0m \u001b[0;34m=\u001b[0m \u001b[0mself\u001b[0m\u001b[0;34m.\u001b[0m\u001b[0mitems\u001b[0m\u001b[0;34m.\u001b[0m\u001b[0mget_loc\u001b[0m\u001b[0;34m(\u001b[0m\u001b[0mitem\u001b[0m\u001b[0;34m)\u001b[0m\u001b[0;34m\u001b[0m\u001b[0m\n\u001b[0m\u001b[1;32m   4116\u001b[0m             \u001b[0;32melse\u001b[0m\u001b[0;34m:\u001b[0m\u001b[0;34m\u001b[0m\u001b[0m\n\u001b[1;32m   4117\u001b[0m                 \u001b[0mindexer\u001b[0m \u001b[0;34m=\u001b[0m \u001b[0mnp\u001b[0m\u001b[0;34m.\u001b[0m\u001b[0marange\u001b[0m\u001b[0;34m(\u001b[0m\u001b[0mlen\u001b[0m\u001b[0;34m(\u001b[0m\u001b[0mself\u001b[0m\u001b[0;34m.\u001b[0m\u001b[0mitems\u001b[0m\u001b[0;34m)\u001b[0m\u001b[0;34m)\u001b[0m\u001b[0;34m[\u001b[0m\u001b[0misna\u001b[0m\u001b[0;34m(\u001b[0m\u001b[0mself\u001b[0m\u001b[0;34m.\u001b[0m\u001b[0mitems\u001b[0m\u001b[0;34m)\u001b[0m\u001b[0;34m]\u001b[0m\u001b[0;34m\u001b[0m\u001b[0m\n",
      "\u001b[0;32m/anaconda3/lib/python3.7/site-packages/pandas/core/indexes/base.py\u001b[0m in \u001b[0;36mget_loc\u001b[0;34m(self, key, method, tolerance)\u001b[0m\n\u001b[1;32m   3078\u001b[0m                 \u001b[0;32mreturn\u001b[0m \u001b[0mself\u001b[0m\u001b[0;34m.\u001b[0m\u001b[0m_engine\u001b[0m\u001b[0;34m.\u001b[0m\u001b[0mget_loc\u001b[0m\u001b[0;34m(\u001b[0m\u001b[0mkey\u001b[0m\u001b[0;34m)\u001b[0m\u001b[0;34m\u001b[0m\u001b[0m\n\u001b[1;32m   3079\u001b[0m             \u001b[0;32mexcept\u001b[0m \u001b[0mKeyError\u001b[0m\u001b[0;34m:\u001b[0m\u001b[0;34m\u001b[0m\u001b[0m\n\u001b[0;32m-> 3080\u001b[0;31m                 \u001b[0;32mreturn\u001b[0m \u001b[0mself\u001b[0m\u001b[0;34m.\u001b[0m\u001b[0m_engine\u001b[0m\u001b[0;34m.\u001b[0m\u001b[0mget_loc\u001b[0m\u001b[0;34m(\u001b[0m\u001b[0mself\u001b[0m\u001b[0;34m.\u001b[0m\u001b[0m_maybe_cast_indexer\u001b[0m\u001b[0;34m(\u001b[0m\u001b[0mkey\u001b[0m\u001b[0;34m)\u001b[0m\u001b[0;34m)\u001b[0m\u001b[0;34m\u001b[0m\u001b[0m\n\u001b[0m\u001b[1;32m   3081\u001b[0m \u001b[0;34m\u001b[0m\u001b[0m\n\u001b[1;32m   3082\u001b[0m         \u001b[0mindexer\u001b[0m \u001b[0;34m=\u001b[0m \u001b[0mself\u001b[0m\u001b[0;34m.\u001b[0m\u001b[0mget_indexer\u001b[0m\u001b[0;34m(\u001b[0m\u001b[0;34m[\u001b[0m\u001b[0mkey\u001b[0m\u001b[0;34m]\u001b[0m\u001b[0;34m,\u001b[0m \u001b[0mmethod\u001b[0m\u001b[0;34m=\u001b[0m\u001b[0mmethod\u001b[0m\u001b[0;34m,\u001b[0m \u001b[0mtolerance\u001b[0m\u001b[0;34m=\u001b[0m\u001b[0mtolerance\u001b[0m\u001b[0;34m)\u001b[0m\u001b[0;34m\u001b[0m\u001b[0m\n",
      "\u001b[0;32mpandas/_libs/index.pyx\u001b[0m in \u001b[0;36mpandas._libs.index.IndexEngine.get_loc\u001b[0;34m()\u001b[0m\n",
      "\u001b[0;32mpandas/_libs/index.pyx\u001b[0m in \u001b[0;36mpandas._libs.index.IndexEngine.get_loc\u001b[0;34m()\u001b[0m\n",
      "\u001b[0;32mpandas/_libs/hashtable_class_helper.pxi\u001b[0m in \u001b[0;36mpandas._libs.hashtable.PyObjectHashTable.get_item\u001b[0;34m()\u001b[0m\n",
      "\u001b[0;32mpandas/_libs/hashtable_class_helper.pxi\u001b[0m in \u001b[0;36mpandas._libs.hashtable.PyObjectHashTable.get_item\u001b[0;34m()\u001b[0m\n",
      "\u001b[0;31mKeyError\u001b[0m: 'CFACSHR'"
     ]
    }
   ],
   "source": [
    "# Payout factors\n",
    "shrout_adj = model_data['SHROUT'] * model_data['CFACSHR']\n",
    "eiss = -np.log(diffCol(model_data['SHROUT'], model_data[\"gvkey\"], 1))\n",
    "totd = model_data['dltt'] + model_data['dlc'] + model_data['mibt'] + model_data['pstk']\n",
    "diss = -np.log(diffCol('totd', model_data[\"gvkey\"], 1))\n",
    "npop = (model_data['ib'] - diffCol(be, model_data[\"gvkey\"], 1)) / (model_data['revt'] - model_data['cogs'])\n",
    "\"\"\"\n",
    "#get z-scores per sector\n",
    "#calc means and stdevs for each sector\n",
    "#within each sector, calc z-scores for each company\n",
    "\n",
    "sic_codes = {\"Agriculture, Forestry and Fishing\":(0100,0999), #need to fix\n",
    "             \"Mining\":(1000,1499),\n",
    "             \"Construction\":,\n",
    "             \"Manufacturing\":,\n",
    "             \"Transportation\":,\n",
    "             \"Wholesale Trade\":,\n",
    "             \"Retail Trade\":,\n",
    "             \"Finance, Insurance and Real Estate\":,\n",
    "             \"Services\":,\n",
    "             \"Public Administration\":,\n",
    "             \"Nonclassifiable\":,\n",
    "            } #dictionary of sector name to tuple of start-stop SIC range\n",
    "\n",
    "prof_means = {}\n",
    "grow_means = {}\n",
    "safe_means = {}\n",
    "pay_means = {}\n",
    "\n",
    "std_devs = {}\n",
    "\n",
    "for sector in sic_codes:\n",
    "    df = model_data[(model_data['SICCD'] >= sic_codes[sector][0]) & (model_data['SICCD'] <= sic_codes[sector][1])]\n",
    "    prof_means[sector] = df[['gpoa', 'roe', 'roa', 'cfoa', 'gmar', 'acc']].mean() #this way copies columns, may be slower\n",
    "    grow_means[sector] = df[['delGpoa', 'delRoe', 'delRoa', 'delCfoa', 'delGpoa']].mean()\n",
    "    safe_means[sector] = df[['bab', 'lev', 'oscore', 'azscore', 'evol']].mean()\n",
    "    pay_means[sector] = df[['eiss', 'diss', 'npop']].mean()\n",
    "    #same with st_devs\n",
    "    \"\"\"\n"
   ]
  },
  {
   "cell_type": "code",
   "execution_count": 73,
   "metadata": {},
   "outputs": [
    {
     "name": "stdout",
     "output_type": "stream",
     "text": [
      "0        NaN\n",
      "1        NaN\n",
      "2        NaN\n",
      "3        NaN\n",
      "4        NaN\n",
      "5        NaN\n",
      "6        NaN\n",
      "7        NaN\n",
      "8        NaN\n",
      "9        NaN\n",
      "10       NaN\n",
      "11       NaN\n",
      "12       NaN\n",
      "13       NaN\n",
      "14       NaN\n",
      "15       NaN\n",
      "16       NaN\n",
      "17       NaN\n",
      "18       NaN\n",
      "19       NaN\n",
      "20       NaN\n",
      "21       NaN\n",
      "22       NaN\n",
      "23       NaN\n",
      "24       NaN\n",
      "25       NaN\n",
      "26       NaN\n",
      "27       NaN\n",
      "28       NaN\n",
      "29       NaN\n",
      "          ..\n",
      "390231   NaN\n",
      "390232   NaN\n",
      "390233   NaN\n",
      "390234   NaN\n",
      "390235   NaN\n",
      "390236   NaN\n",
      "390237   NaN\n",
      "390238   NaN\n",
      "390239   NaN\n",
      "390240   NaN\n",
      "390241   NaN\n",
      "390242   NaN\n",
      "390243   NaN\n",
      "390244   NaN\n",
      "390245   NaN\n",
      "390246   NaN\n",
      "390247   NaN\n",
      "390248   NaN\n",
      "390249   NaN\n",
      "390250   NaN\n",
      "390251   NaN\n",
      "390252   NaN\n",
      "390253   NaN\n",
      "390254   NaN\n",
      "390255   NaN\n",
      "390256   NaN\n",
      "390257   NaN\n",
      "390258   NaN\n",
      "390259   NaN\n",
      "390260   NaN\n",
      "Name: diffCol, Length: 390261, dtype: float64\n"
     ]
    }
   ],
   "source": []
  },
  {
   "cell_type": "code",
   "execution_count": null,
   "metadata": {},
   "outputs": [],
   "source": []
  }
 ],
 "metadata": {
  "kernelspec": {
   "display_name": "Python 3",
   "language": "python",
   "name": "python3"
  },
  "language_info": {
   "codemirror_mode": {
    "name": "ipython",
    "version": 3
   },
   "file_extension": ".py",
   "mimetype": "text/x-python",
   "name": "python",
   "nbconvert_exporter": "python",
   "pygments_lexer": "ipython3",
   "version": "3.7.0"
  }
 },
 "nbformat": 4,
 "nbformat_minor": 2
}
