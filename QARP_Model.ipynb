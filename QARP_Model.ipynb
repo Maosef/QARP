{
 "cells": [
  {
   "cell_type": "markdown",
   "metadata": {},
   "source": [
    "# QARP Model"
   ]
  },
  {
   "cell_type": "markdown",
   "metadata": {},
   "source": [
    "### 1. Compute Factors"
   ]
  },
  {
   "cell_type": "code",
   "execution_count": 1,
   "metadata": {},
   "outputs": [],
   "source": [
    "# import libraries\n",
    "import pandas\n",
    "import numpy as np\n",
    "import datetime"
   ]
  },
  {
   "cell_type": "code",
   "execution_count": 2,
   "metadata": {},
   "outputs": [],
   "source": [
    "# helper functions\n",
    "\n",
    "def diffCol(col, gvkey, step):\n",
    "    diff = col.diff(periods=step).to_frame(\"colRaw\")\n",
    "    diff[\"gvkeyDiff\"] = model_data[\"gvkey\"].diff(periods=step)\n",
    "    diff[\"col\"] = diff.apply(lambda x: x[\"colRaw\"] if x[\"gvkeyDiff\"] == 0 else float(\"nan\"), axis=1)\n",
    "    return diff[\"col\"]"
   ]
  },
  {
   "cell_type": "code",
   "execution_count": 3,
   "metadata": {},
   "outputs": [],
   "source": [
    "# Import csv data\n",
    "compustat = pandas.read_csv(\"Compustat19612018.csv\")\n",
    "# Used dtypes here to speed up function\n",
    "crsp = pandas.read_csv(\"CRSP1960_2018.csv\", \\\n",
    "    dtype={'PERMNO': int, 'date': str, 'EXCHCD': float, 'SICCD': str, 'SHRCLS': str, 'PRIMEXCH': str, \\\n",
    "           'PRC': float, 'RET': str, 'SHROUT': float, 'CFACSHR': float, 'vwretd': float, 'sprtrn': float})\n",
    "cpi = pandas.read_csv(\"CPIData.csv\")\n",
    "linking_table = pandas.read_csv('LinkingTable.csv')"
   ]
  },
  {
   "cell_type": "markdown",
   "metadata": {},
   "source": [
    "#### Link CRSP and Compustat"
   ]
  },
  {
   "cell_type": "code",
   "execution_count": 4,
   "metadata": {},
   "outputs": [],
   "source": [
    "# Fix LINKDT and LINKENDDT dates\n",
    "linking_table.LINKDT = pandas.to_datetime(linking_table.LINKDT.astype(str), format='%Y%m%d', errors='coerce').fillna(datetime.date.today())\n",
    "linking_table.LINKENDDT = pandas.to_datetime(linking_table.LINKENDDT.astype(str), format='%Y%m%d', errors='coerce').fillna(datetime.date.today())"
   ]
  },
  {
   "cell_type": "code",
   "execution_count": 5,
   "metadata": {},
   "outputs": [],
   "source": [
    "# Merge compustat and linking_table based on gvkey to get permnos for each compustat company\n",
    "compustat = compustat.merge(linking_table, on='gvkey')"
   ]
  },
  {
   "cell_type": "code",
   "execution_count": 6,
   "metadata": {},
   "outputs": [],
   "source": [
    "# Create year column in crsp to link with permno\n",
    "crsp['year'] = pandas.to_datetime(crsp.date, format='%m/%d/%Y').dt.year;"
   ]
  },
  {
   "cell_type": "code",
   "execution_count": 7,
   "metadata": {},
   "outputs": [],
   "source": [
    "# Create permnoyear column for crsp and compustat\n",
    "crsp['permnoyear'] = crsp.PERMNO.map(str) + crsp.year.map(str)\n",
    "compustat['permnoyear'] = compustat.LPERMNO.map(str) + compustat.fyear.map(str)"
   ]
  },
  {
   "cell_type": "code",
   "execution_count": 8,
   "metadata": {
    "scrolled": true
   },
   "outputs": [],
   "source": [
    "# For each year, we need the most recent value, so I am goruping it by permnoyear and then\n",
    "# just taking the tail (last member) of the group. Its quick and dirty and we probably want \n",
    "# a better way to do this so we know we are getting the last value if the data isn't sorted\n",
    "crspGetLastYear = crsp[['permnoyear','EXCHCD','SICCD','SHROUT' ,'SHRCLS','PRIMEXCH', 'date']]\n",
    "crspGetLastYear = crspGetLastYear.groupby('permnoyear').tail(1)"
   ]
  },
  {
   "cell_type": "code",
   "execution_count": 9,
   "metadata": {},
   "outputs": [],
   "source": [
    "# These columns need to be summed for each year, which is being done here\n",
    "# RET is a str column and sometimes has error characters so still need to handle that\n",
    "crspSum = crsp[['permnoyear', 'PRC', 'RET', 'vwretd', 'sprtrn']]\n",
    "crspSum = crspSum.groupby(by=['permnoyear'])['sprtrn', 'PRC', 'RET', 'vwretd', 'sprtrn'].sum()"
   ]
  },
  {
   "cell_type": "code",
   "execution_count": 10,
   "metadata": {},
   "outputs": [],
   "source": [
    "# Merge the two annualized subset dataframes back together\n",
    "crsp = crspSum.merge(crspGetLastYear, on='permnoyear')"
   ]
  },
  {
   "cell_type": "code",
   "execution_count": 11,
   "metadata": {},
   "outputs": [],
   "source": [
    "# Merge crsp and compustat by permnoyear and convert permnoyear to ints\n",
    "model_data = compustat.merge(crsp, on='permnoyear')\n",
    "model_data[\"permnoyear\"] = pandas.to_numeric(model_data[\"permnoyear\"])"
   ]
  },
  {
   "cell_type": "markdown",
   "metadata": {},
   "source": [
    "#### Profitability Factors\n",
    "1. gross profits over assets (GPOA) = (Revenue - costs of goods sold) / total assets\n",
    "2. return on equity (ROE) = net income / book-equity \n",
    "3. return on assets (ROA) = net income / total assets\n",
    "4. cash flow over assets (CFOA) = (net income + depreciation - changes in working capital - capital expenditures) / total assets\n",
    "5. gross margin (GMAR) = (revenue - cost of goods sold) / total sales\n",
    "6. low accruals (ACC) = - (change in working capital - depreciation) / total assets\n"
   ]
  },
  {
   "cell_type": "code",
   "execution_count": 12,
   "metadata": {},
   "outputs": [],
   "source": [
    "# GPOA\n",
    "gp = model_data.revt - model_data.cogs\n",
    "gpoa = gp / model_data[\"at\"]\n",
    "\n",
    "# ROE\n",
    "be = (model_data.seq - model_data.pstk).fillna(model_data.ceq + model_data.pstk).fillna(model_data[\"at\"] - model_data[\"lt\"] + compustat[\"mibt\"])\n",
    "roe = model_data[\"ib\"] / be\n",
    "\n",
    "# ROA\n",
    "roa = model_data[\"ib\"] / model_data[\"at\"]\n",
    "\n",
    "# CFOA\n",
    "wc = model_data[\"act\"] - model_data[\"lct\"] - model_data[\"che\"] + model_data[\"dlc\"] + model_data[\"txp\"]\n",
    "wcDiff = diffCol(wc, model_data[\"gvkey\"], 1)\n",
    "cf = model_data[\"ib\"] + model_data[\"dp\"] - wcDiff - model_data[\"capx\"]\n",
    "cfoa = cf / model_data[\"at\"]\n",
    "\n",
    "# GMAR\n",
    "gmar = gp / model_data[\"sale\"]\n",
    "\n",
    "# ACC\n",
    "acc = -wcDiff / model_data[\"at\"]"
   ]
  },
  {
   "cell_type": "markdown",
   "metadata": {},
   "source": [
    "#### Growth Factors\n",
    "Five year growth of profitability factors"
   ]
  },
  {
   "cell_type": "code",
   "execution_count": 13,
   "metadata": {},
   "outputs": [],
   "source": [
    "# Store for calculating later\n",
    "ib = model_data[\"ib\"]\n",
    "diffIb = diffCol(ib, model_data[\"gvkey\"], 5)\n",
    "diffGp = diffCol(gp, model_data[\"gvkey\"], 5)\n",
    "atShift = model_data[\"at\"].shift(5)\n",
    "ceqShift = model_data[\"ceq\"].shift(5)\n",
    "\n",
    "# Growth factors\n",
    "delGpoa = diffGp / atShift\n",
    "delRoe = diffIb / ceqShift\n",
    "delRoa = diffIb / atShift\n",
    "delCfoa = diffCol(cf, model_data[\"gvkey\"], 5) / ceqShift\n",
    "delGpoa = diffGp / ceqShift"
   ]
  },
  {
   "cell_type": "markdown",
   "metadata": {},
   "source": [
    "#### Safety Factors\n",
    "\n",
    "1. low beta (BAB) = cov(value-weighted return, S&P 500 return) / var(S&P 500 return)\n",
    "2. low leverage (LEV) = - (total debt) / total assets\n",
    "3. Ohlson’s O-score (OSCORE) = - (-1.32 - 0.407 * log(ADJASSET/CPI) + 6.03 * TLTA - 1.43 * WCTA + 0.076 * CLCA - 1.72 * OENEG - 2.37 * NITA - 1.83 * FUTL + 0.285 * INTWO - 0.521 * CHIN)\n",
    "    *  Adjusted Total Assets (ADJASSET) = total assets + 10% * (Market equity - Book Equity)\n",
    "    * Consumer Price Index (CPI)\n",
    "    * Book Value of Debt (TLTA) = book value of debt / ADJASSET\n",
    "    * Working Capital to Assets (WCTA) = (current assets - current liabilities) / ADJASSET\n",
    "    * Current Liabilities to Assets (CLCA) = current liabilities / current assets\n",
    "    * OENEG = 1 if total liabilities exceed total assets\n",
    "    * Net income to asssets (NITA) = net income / total assets\n",
    "    * Pretax Income to Liabilities(FUTL) = pretax income / total liabilites\n",
    "    * INTWO = 1 if net income is negative for the current and prior fiscal year\n",
    "    * (CHIN) = change in net income\n",
    "4. Altmans Z-Score (AZSCORE) = (1.2 Working Capital + 1.4 Retained Earnings + 3.3 EBIT + 0.6 Market Cap + Sales) / Total Assets\n",
    "5. low ROE volatility (EVOL) = Standard deviation of quarterly ROE over the past 60 quarters or 5 years (if quarterly null)\n"
   ]
  },
  {
   "cell_type": "code",
   "execution_count": null,
   "metadata": {},
   "outputs": [],
   "source": []
  },
  {
   "cell_type": "code",
   "execution_count": null,
   "metadata": {},
   "outputs": [],
   "source": []
  },
  {
   "cell_type": "code",
   "execution_count": null,
   "metadata": {},
   "outputs": [],
   "source": []
  }
 ],
 "metadata": {
  "kernelspec": {
   "display_name": "Python 3",
   "language": "python",
   "name": "python3"
  },
  "language_info": {
   "codemirror_mode": {
    "name": "ipython",
    "version": 3
   },
   "file_extension": ".py",
   "mimetype": "text/x-python",
   "name": "python",
   "nbconvert_exporter": "python",
   "pygments_lexer": "ipython3",
   "version": "3.6.1"
  }
 },
 "nbformat": 4,
 "nbformat_minor": 2
}
