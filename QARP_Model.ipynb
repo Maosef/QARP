{
 "cells": [
  {
   "cell_type": "markdown",
   "metadata": {},
   "source": [
    "# QARP Model"
   ]
  },
  {
   "cell_type": "markdown",
   "metadata": {},
   "source": [
    "### 1. Compute Factors"
   ]
  },
  {
   "cell_type": "code",
   "execution_count": 1,
   "metadata": {},
   "outputs": [],
   "source": [
    "# import libraries\n",
    "import pandas\n",
    "import numpy as np\n",
    "import datetime"
   ]
  },
  {
   "cell_type": "code",
   "execution_count": 75,
   "metadata": {},
   "outputs": [],
   "source": [
    "# helper functions\n",
    "\n",
    "\"\"\" Gets the lagged difference for each company. \"\"\"\n",
    "def diffCol(col, gvkey, step):\n",
    "    return stepLookback(col, gvkey, step, lambda x: x[\"col\"] - x[\"shiftedCol\"])\n",
    "\n",
    "\"\"\" Gets a binary column of whether the lagged and current values are negative. \"\"\"\n",
    "def negLookback(col, gvkey, step):\n",
    "    return stepLookback(col, gvkey, step, lambda x: 1 if x[\"col\"] < 0 and x[\"shiftedCol\"] < 0 else 0)\n",
    "\n",
    "\"\"\" Gets a column of the sum of absolute values of lagged and current values. \"\"\"\n",
    "def absAddition(col, gvkey, step):\n",
    "    return stepLookback(col, gvkey, step, lambda x: abs(x[\"col\"]) + abs(x[\"shiftedCol\"]))\n",
    "\n",
    "\"\"\" Applies func() to col[i] and col[i-step], if they have the same gvkey. \"\"\"\n",
    "def stepLookback(col, gvkey, step, func):\n",
    "    dt = col.shift(step).to_frame(\"shiftedCol\")\n",
    "    dt[\"gvkeyDiff\"] = gvkey.diff(periods=step)\n",
    "    dt[\"col\"] = col\n",
    "    dt[\"diffCol\"] = dt.apply(lambda x: func(x) if x[\"gvkeyDiff\"] == 0 else float(\"NaN\"), axis=1)\n",
    "    \n",
    "    return dt[\"diffCol\"]"
   ]
  },
  {
   "cell_type": "code",
   "execution_count": 3,
   "metadata": {},
   "outputs": [],
   "source": [
    "# Import csv data\n",
    "compustat = pandas.read_csv(\"Compustat19612018.csv\")\n",
    "# Used dtypes here to speed up function\n",
    "crsp = pandas.read_csv(\"CRSP1960_2018.csv\", \\\n",
    "    dtype={'PERMNO': int, 'date': str, 'EXCHCD': float, 'SICCD': str, 'SHRCLS': str, 'PRIMEXCH': str, \\\n",
    "           'PRC': float, 'RET': str, 'SHROUT': float, 'CFACSHR': float, 'vwretd': float, 'sprtrn': float})\n",
    "cpi = pandas.read_csv(\"CPIData.csv\")\n",
    "linking_table = pandas.read_csv('CompustatMergedDatabase.csv')"
   ]
  },
  {
   "cell_type": "markdown",
   "metadata": {},
   "source": [
    "#### Link CRSP and Compustat"
   ]
  },
  {
   "cell_type": "code",
   "execution_count": 4,
   "metadata": {},
   "outputs": [],
   "source": [
    "# Fix LINKDT and LINKENDDT dates\n",
    "linking_table.LINKDT = pandas.to_datetime(linking_table.LINKDT.astype(str), format='%Y%m%d', errors='coerce').fillna(datetime.date.today())\n",
    "linking_table.LINKENDDT = pandas.to_datetime(linking_table.LINKENDDT.astype(str), format='%Y%m%d', errors='coerce').fillna(datetime.date.today())"
   ]
  },
  {
   "cell_type": "code",
   "execution_count": 18,
   "metadata": {},
   "outputs": [
    {
     "name": "stdout",
     "output_type": "stream",
     "text": [
      "Index(['gvkey', 'datadate', 'fyear', 'indfmt', 'consol', 'popsrc', 'datafmt',\n",
      "       'tic', 'curcd', 'act', 'at', 'capx', 'ceq', 'che', 'cogs', 'csho',\n",
      "       'dlc', 'dltt', 'dp', 'ebit', 'ib', 'lct', 'lt', 'mib', 'mibt', 'pi',\n",
      "       'pstk', 'pstkl', 'pstkrv', 're', 'revt', 'sale', 'seq', 'tie', 'txp',\n",
      "       'txt', 'costat', 'conm_x', 'LINKPRIM_x', 'LIID_x', 'LINKTYPE_x',\n",
      "       'LPERMNO_x', 'LPERMCO_x', 'LINKDT_x', 'LINKENDDT_x', 'permnoyear',\n",
      "       'conm_y', 'LINKPRIM_y', 'LIID_y', 'LINKTYPE_y', 'LPERMNO_y',\n",
      "       'LPERMCO_y', 'LINKDT_y', 'LINKENDDT_y', 'conm', 'LINKPRIM', 'LIID',\n",
      "       'LINKTYPE', 'LPERMNO', 'LPERMCO', 'LINKDT', 'LINKENDDT'],\n",
      "      dtype='object')\n"
     ]
    }
   ],
   "source": [
    "# Merge compustat and linking_table based on gvkey to get permnos for each compustat company\n",
    "compustat = compustat.merge(linking_table, on='gvkey')"
   ]
  },
  {
   "cell_type": "code",
   "execution_count": 6,
   "metadata": {},
   "outputs": [],
   "source": [
    "# Create year column in crsp to link with permno\n",
    "crsp['year'] = pandas.to_datetime(crsp.date, format='%m/%d/%Y').dt.year;"
   ]
  },
  {
   "cell_type": "code",
   "execution_count": 7,
   "metadata": {},
   "outputs": [],
   "source": [
    "# Create permnoyear column for crsp and compustat\n",
    "crsp['permnoyear'] = crsp.PERMNO.map(str) + crsp.year.map(str)\n",
    "compustat['permnoyear'] = compustat.LPERMNO.map(str) + compustat.fyear.map(str)"
   ]
  },
  {
   "cell_type": "code",
   "execution_count": 8,
   "metadata": {
    "scrolled": true
   },
   "outputs": [],
   "source": [
    "# For each year, we need the most recent value, so I am goruping it by permnoyear and then\n",
    "# just taking the tail (last member) of the group. Its quick and dirty and we probably want \n",
    "# a better way to do this so we know we are getting the last value if the data isn't sorted\n",
    "crspGetLastYear = crsp[['permnoyear','EXCHCD','SICCD','SHROUT' ,'SHRCLS','PRIMEXCH', 'date']]\n",
    "crspGetLastYear = crspGetLastYear.groupby('permnoyear').tail(1)"
   ]
  },
  {
   "cell_type": "code",
   "execution_count": 9,
   "metadata": {},
   "outputs": [],
   "source": [
    "# These columns need to be summed for each year, which is being done here\n",
    "# RET is a str column and sometimes has error characters so still need to handle that\n",
    "crspSum = crsp[['permnoyear', 'PRC', 'RET', 'vwretd', 'sprtrn']]\n",
    "crspSum = crspSum.groupby(by=['permnoyear'])['sprtrn', 'PRC', 'RET', 'vwretd', 'sprtrn'].sum()"
   ]
  },
  {
   "cell_type": "code",
   "execution_count": 19,
   "metadata": {},
   "outputs": [
    {
     "name": "stdout",
     "output_type": "stream",
     "text": [
      "Index(['permnoyear', 'sprtrn', 'PRC', 'vwretd', 'sprtrn', 'EXCHCD', 'SICCD',\n",
      "       'SHROUT', 'SHRCLS', 'PRIMEXCH', 'date'],\n",
      "      dtype='object')\n"
     ]
    }
   ],
   "source": [
    "# Merge the two annualized subset dataframes back together\n",
    "crsp = crspSum.merge(crspGetLastYear, on='permnoyear')"
   ]
  },
  {
   "cell_type": "code",
   "execution_count": 20,
   "metadata": {},
   "outputs": [
    {
     "name": "stdout",
     "output_type": "stream",
     "text": [
      "Index(['gvkey', 'datadate', 'fyear', 'indfmt', 'consol', 'popsrc', 'datafmt',\n",
      "       'tic', 'curcd', 'act', 'at', 'capx', 'ceq', 'che', 'cogs', 'csho',\n",
      "       'dlc', 'dltt', 'dp', 'ebit', 'ib', 'lct', 'lt', 'mib', 'mibt', 'pi',\n",
      "       'pstk', 'pstkl', 'pstkrv', 're', 'revt', 'sale', 'seq', 'tie', 'txp',\n",
      "       'txt', 'costat', 'conm_x', 'LINKPRIM_x', 'LIID_x', 'LINKTYPE_x',\n",
      "       'LPERMNO_x', 'LPERMCO_x', 'LINKDT_x', 'LINKENDDT_x', 'permnoyear',\n",
      "       'conm_y', 'LINKPRIM_y', 'LIID_y', 'LINKTYPE_y', 'LPERMNO_y',\n",
      "       'LPERMCO_y', 'LINKDT_y', 'LINKENDDT_y', 'conm', 'LINKPRIM', 'LIID',\n",
      "       'LINKTYPE', 'LPERMNO', 'LPERMCO', 'LINKDT', 'LINKENDDT', 'sprtrn',\n",
      "       'PRC', 'vwretd', 'sprtrn', 'EXCHCD', 'SICCD', 'SHROUT', 'SHRCLS',\n",
      "       'PRIMEXCH', 'date'],\n",
      "      dtype='object')\n"
     ]
    }
   ],
   "source": [
    "# Merge crsp and compustat by permnoyear and convert permnoyear to ints\n",
    "model_data = compustat.merge(crsp, on='permnoyear')\n",
    "model_data[\"permnoyear\"] = pandas.to_numeric(model_data[\"permnoyear\"])\n",
    "print(model_data.columns)"
   ]
  },
  {
   "cell_type": "markdown",
   "metadata": {},
   "source": [
    "#### Profitability Factors\n",
    "1. gross profits over assets (GPOA) = (Revenue - costs of goods sold) / total assets\n",
    "2. return on equity (ROE) = net income / book-equity \n",
    "3. return on assets (ROA) = net income / total assets\n",
    "4. cash flow over assets (CFOA) = (net income + depreciation - changes in working capital - capital expenditures) / total assets\n",
    "5. gross margin (GMAR) = (revenue - cost of goods sold) / total sales\n",
    "6. low accruals (ACC) = - (change in working capital - depreciation) / total assets\n"
   ]
  },
  {
   "cell_type": "code",
   "execution_count": 12,
   "metadata": {},
   "outputs": [],
   "source": [
    "# GPOA\n",
    "gp = model_data.revt - model_data.cogs\n",
    "gpoa = gp / model_data[\"at\"]\n",
    "\n",
    "# ROE\n",
    "be = (model_data.seq - model_data.pstk).fillna(model_data.ceq + model_data.pstk).fillna(model_data[\"at\"] - model_data[\"lt\"] + compustat[\"mibt\"])\n",
    "roe = model_data[\"ib\"] / be\n",
    "\n",
    "# ROA\n",
    "roa = model_data[\"ib\"] / model_data[\"at\"]\n",
    "\n",
    "# CFOA\n",
    "wc = model_data[\"act\"] - model_data[\"lct\"] - model_data[\"che\"] + model_data[\"dlc\"] + model_data[\"txp\"]\n",
    "wcDiff = diffCol(wc, model_data[\"gvkey\"], 1)\n",
    "cf = model_data[\"ib\"] + model_data[\"dp\"] - wcDiff - model_data[\"capx\"]\n",
    "cfoa = cf / model_data[\"at\"]\n",
    "\n",
    "# GMAR\n",
    "gmar = gp / model_data[\"sale\"]\n",
    "\n",
    "# ACC\n",
    "acc = -wcDiff / model_data[\"at\"]"
   ]
  },
  {
   "cell_type": "markdown",
   "metadata": {},
   "source": [
    "#### Growth Factors\n",
    "Five year growth of profitability factors"
   ]
  },
  {
   "cell_type": "code",
   "execution_count": 13,
   "metadata": {},
   "outputs": [],
   "source": [
    "# Store for calculating later\n",
    "ib = model_data[\"ib\"]\n",
    "diffIb = diffCol(ib, model_data[\"gvkey\"], 5)\n",
    "diffGp = diffCol(gp, model_data[\"gvkey\"], 5)\n",
    "atShift = model_data[\"at\"].shift(5)\n",
    "ceqShift = model_data[\"ceq\"].shift(5)\n",
    "\n",
    "# Growth factors\n",
    "delGpoa = diffGp / atShift\n",
    "delRoe = diffIb / ceqShift\n",
    "delRoa = diffIb / atShift\n",
    "delCfoa = diffCol(cf, model_data[\"gvkey\"], 5) / ceqShift\n",
    "delGpoa = diffGp / ceqShift"
   ]
  },
  {
   "cell_type": "markdown",
   "metadata": {},
   "source": [
    "#### Safety Factors\n",
    "\n",
    "1. low beta (BAB) = cov(value-weighted return, S&P 500 return) / var(S&P 500 return)\n",
    "2. low leverage (LEV) = - (total debt) / total assets\n",
    "3. Ohlson’s O-score (OSCORE) = - (-1.32 - 0.407 * log(ADJASSET/CPI) + 6.03 * TLTA - 1.43 * WCTA + 0.076 * CLCA - 1.72 * OENEG - 2.37 * NITA - 1.83 * FUTL + 0.285 * INTWO - 0.521 * CHIN)\n",
    "    *  Adjusted Total Assets (ADJASSET) = total assets + 10% * (Market equity - Book Equity)\n",
    "    * Consumer Price Index (CPI)\n",
    "    * Book Value of Debt (TLTA) = book value of debt / ADJASSET\n",
    "    * Working Capital to Assets (WCTA) = (current assets - current liabilities) / ADJASSET\n",
    "    * Current Liabilities to Assets (CLCA) = current liabilities / current assets\n",
    "    * OENEG = 1 if total liabilities exceed total assets\n",
    "    * Net income to asssets (NITA) = net income / total assets\n",
    "    * Pretax Income to Liabilities(FUTL) = pretax income / total liabilites\n",
    "    * INTWO = 1 if net income is negative for the current and prior fiscal year\n",
    "    * (CHIN) = change in net income\n",
    "4. Altmans Z-Score (AZSCORE) = (1.2 Working Capital + 1.4 Retained Earnings + 3.3 EBIT + 0.6 Market Cap + Sales) / Total Assets\n",
    "5. low ROE volatility (EVOL) = Standard deviation of quarterly ROE over the past 60 quarters or 5 years (if quarterly null)\n"
   ]
  },
  {
   "cell_type": "code",
   "execution_count": 80,
   "metadata": {},
   "outputs": [
    {
     "name": "stderr",
     "output_type": "stream",
     "text": [
      "/Library/Frameworks/Python.framework/Versions/3.7/lib/python3.7/site-packages/ipykernel_launcher.py:17: RuntimeWarning: divide by zero encountered in log\n",
      "/Library/Frameworks/Python.framework/Versions/3.7/lib/python3.7/site-packages/ipykernel_launcher.py:17: RuntimeWarning: invalid value encountered in log\n"
     ]
    }
   ],
   "source": [
    "# Safety factors\n",
    "bab = 0\n",
    "lev = -(model_data[\"dltt\"] + model_data[\"dlc\"] + model_data[\"mibt\"] + model_data[\"pstk\"]) / model_data[\"at\"]\n",
    "\n",
    "# Oholn's O-score\n",
    "adjasset = model_data[\"at\"] + 0.1*(model_data[\"csho\"] * model_data[\"PRC\"] - model_data[\"ceq\"])\n",
    "tlta = (model_data[\"dlc\"] + model_data[\"dltt\"]) / adjasset\n",
    "wcta = (model_data[\"act\"] - model_data[\"lct\"]) / adjasset\n",
    "clca = model_data[\"lct\"] / model_data[\"act\"]\n",
    "oeneg = model_data[\"lt\"] - model_data[\"at\"]\n",
    "oeneg[oeneg <= 0] = 0\n",
    "nita = model_data[\"ib\"] / model_data[\"at\"]\n",
    "futl = model_data[\"pi\"] / model_data[\"lt\"]\n",
    "intwo = negLookback(model_data[\"ib\"], model_data[\"gvkey\"], 1)\n",
    "chin = diffCol(model_data[\"ib\"], model_data[\"gvkey\"], 1) / absAddition(model_data[\"ib\"], model_data[\"gvkey\"], 1)\n",
    "oscore = -(-1.32 - 0.407 * np.log(adjasset / 1) + 6.03 * tlta - 1.43 * wcta + 0.076 * clca \\\n",
    "           - 1.72 * oeneg - 2.37 * nita - 1.83 * futl + 0.285 * intwo - 0.521 * chin)  # Dividing by 1 instead of CPI\n",
    "\n",
    "# Altman's Z-score\n",
    "ebit = model_data[\"ib\"] + model_data[\"tie\"] + model_data[\"txt\"]\n",
    "me = model_data[\"csho\"] * model_data[\"PRC\"]\n",
    "azscore = (1.2 * wc + 1.4 * model_data[\"re\"] + 3.3 * ebit + 0.6 * me) / model_data[\"at\"]"
   ]
  },
  {
   "cell_type": "code",
   "execution_count": 88,
   "metadata": {},
   "outputs": [
    {
     "name": "stdout",
     "output_type": "stream",
     "text": [
      "35728\n"
     ]
    }
   ],
   "source": []
  },
  {
   "cell_type": "code",
   "execution_count": null,
   "metadata": {},
   "outputs": [],
   "source": []
  }
 ],
 "metadata": {
  "kernelspec": {
   "display_name": "Python 3",
   "language": "python",
   "name": "python3"
  },
  "language_info": {
   "codemirror_mode": {
    "name": "ipython",
    "version": 3
   },
   "file_extension": ".py",
   "mimetype": "text/x-python",
   "name": "python",
   "nbconvert_exporter": "python",
   "pygments_lexer": "ipython3",
   "version": "3.7.1"
  }
 },
 "nbformat": 4,
 "nbformat_minor": 2
}
